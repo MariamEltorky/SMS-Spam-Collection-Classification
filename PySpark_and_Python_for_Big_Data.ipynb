{
  "cells": [
    {
      "cell_type": "markdown",
      "id": "c9da32d6",
      "metadata": {
        "id": "c9da32d6"
      },
      "source": [
        "# NLP Using PySpark"
      ]
    },
    {
      "cell_type": "markdown",
      "id": "e31bc851",
      "metadata": {
        "id": "e31bc851"
      },
      "source": [
        "### Create a spark session and import the required libraries"
      ]
    },
    {
      "cell_type": "code",
      "execution_count": 3,
      "id": "w0QKfB2ngodO",
      "metadata": {
        "colab": {
          "base_uri": "https://localhost:8080/"
        },
        "id": "w0QKfB2ngodO",
        "outputId": "c9060859-d2e5-4389-c801-0539fd446908"
      },
      "outputs": [
        {
          "name": "stdout",
          "output_type": "stream",
          "text": [
            "Looking in indexes: https://pypi.org/simple, https://us-python.pkg.dev/colab-wheels/public/simple/\n",
            "Requirement already satisfied: pyspark in /usr/local/lib/python3.7/dist-packages (3.3.0)\n",
            "Requirement already satisfied: py4j==0.10.9.5 in /usr/local/lib/python3.7/dist-packages (from pyspark) (0.10.9.5)\n"
          ]
        }
      ],
      "source": [
        "! pip install pyspark"
      ]
    },
    {
      "cell_type": "code",
      "execution_count": 1,
      "id": "dcf86e46",
      "metadata": {
        "id": "dcf86e46"
      },
      "outputs": [],
      "source": [
        "from pyspark.sql import SparkSession"
      ]
    },
    {
      "cell_type": "code",
      "execution_count": 2,
      "id": "9GaqdhNugx88",
      "metadata": {
        "id": "9GaqdhNugx88"
      },
      "outputs": [],
      "source": [
        "spark = (SparkSession.builder.getOrCreate())"
      ]
    },
    {
      "cell_type": "markdown",
      "id": "90c7df9e",
      "metadata": {
        "id": "90c7df9e"
      },
      "source": [
        "### Read the readme file to learn more about the data"
      ]
    },
    {
      "cell_type": "markdown",
      "id": "2d00718f",
      "metadata": {
        "id": "2d00718f"
      },
      "source": [
        "### Read the data into a DataFrame"
      ]
    },
    {
      "cell_type": "code",
      "execution_count": 3,
      "id": "29914cf1",
      "metadata": {
        "id": "29914cf1"
      },
      "outputs": [],
      "source": [
        "df = spark.read.csv(\"/content/SMSSpamCollection.csv\",   sep='\\t')"
      ]
    },
    {
      "cell_type": "markdown",
      "id": "182cd7f6",
      "metadata": {
        "id": "182cd7f6"
      },
      "source": [
        "### Print the schema"
      ]
    },
    {
      "cell_type": "code",
      "execution_count": 4,
      "id": "b52706b9",
      "metadata": {
        "colab": {
          "base_uri": "https://localhost:8080/"
        },
        "id": "b52706b9",
        "outputId": "8a81308f-a416-4ff6-d94d-766c694e3601"
      },
      "outputs": [
        {
          "name": "stdout",
          "output_type": "stream",
          "text": [
            "root\n",
            " |-- _c0: string (nullable = true)\n",
            " |-- _c1: string (nullable = true)\n",
            "\n"
          ]
        }
      ],
      "source": [
        "df.printSchema()"
      ]
    },
    {
      "cell_type": "markdown",
      "id": "2b90cce7",
      "metadata": {
        "id": "2b90cce7"
      },
      "source": [
        "### Rename the first column to 'class' and second column to 'text'"
      ]
    },
    {
      "cell_type": "code",
      "execution_count": 5,
      "id": "qGtTc6WshtlJ",
      "metadata": {
        "id": "qGtTc6WshtlJ"
      },
      "outputs": [],
      "source": [
        "df = df.withColumnRenamed(\"_c0\",\"class\")\n",
        "df = df.withColumnRenamed(\"_c1\",\"text\")"
      ]
    },
    {
      "cell_type": "code",
      "execution_count": 6,
      "id": "FIK7JD7BiJT8",
      "metadata": {
        "colab": {
          "base_uri": "https://localhost:8080/"
        },
        "id": "FIK7JD7BiJT8",
        "outputId": "53b2e227-dce1-4fa4-98c5-02e6b5968578"
      },
      "outputs": [
        {
          "name": "stdout",
          "output_type": "stream",
          "text": [
            "root\n",
            " |-- class: string (nullable = true)\n",
            " |-- text: string (nullable = true)\n",
            "\n"
          ]
        }
      ],
      "source": [
        "df.printSchema()"
      ]
    },
    {
      "cell_type": "markdown",
      "id": "a3e798d0",
      "metadata": {
        "id": "a3e798d0"
      },
      "source": [
        "### Show the first 10 rows from the dataframe\n",
        "- Show once with truncate=True and once with truncate=False"
      ]
    },
    {
      "cell_type": "code",
      "execution_count": 7,
      "id": "z1OXERmWiOu4",
      "metadata": {
        "colab": {
          "base_uri": "https://localhost:8080/"
        },
        "id": "z1OXERmWiOu4",
        "outputId": "9e2e476c-bfe6-459b-cf1a-a544c0d22372"
      },
      "outputs": [
        {
          "name": "stdout",
          "output_type": "stream",
          "text": [
            "+-----+--------------------+\n",
            "|class|                text|\n",
            "+-----+--------------------+\n",
            "|  ham|Go until jurong p...|\n",
            "|  ham|Ok lar... Joking ...|\n",
            "| spam|Free entry in 2 a...|\n",
            "|  ham|U dun say so earl...|\n",
            "|  ham|Nah I don't think...|\n",
            "| spam|FreeMsg Hey there...|\n",
            "|  ham|Even my brother i...|\n",
            "|  ham|As per your reque...|\n",
            "| spam|WINNER!! As a val...|\n",
            "| spam|Had your mobile 1...|\n",
            "+-----+--------------------+\n",
            "only showing top 10 rows\n",
            "\n"
          ]
        }
      ],
      "source": [
        "df.show(10)"
      ]
    },
    {
      "cell_type": "code",
      "execution_count": 8,
      "id": "9mN_ixKFiStf",
      "metadata": {
        "colab": {
          "base_uri": "https://localhost:8080/"
        },
        "id": "9mN_ixKFiStf",
        "outputId": "2ca489a0-7e53-46f7-b14b-dd3f57819032"
      },
      "outputs": [
        {
          "name": "stdout",
          "output_type": "stream",
          "text": [
            "+-----+--------------------+\n",
            "|class|                text|\n",
            "+-----+--------------------+\n",
            "|  ham|Go until jurong p...|\n",
            "|  ham|Ok lar... Joking ...|\n",
            "| spam|Free entry in 2 a...|\n",
            "|  ham|U dun say so earl...|\n",
            "|  ham|Nah I don't think...|\n",
            "| spam|FreeMsg Hey there...|\n",
            "|  ham|Even my brother i...|\n",
            "|  ham|As per your reque...|\n",
            "| spam|WINNER!! As a val...|\n",
            "| spam|Had your mobile 1...|\n",
            "+-----+--------------------+\n",
            "only showing top 10 rows\n",
            "\n"
          ]
        }
      ],
      "source": [
        "df.show(10,truncate=True)"
      ]
    },
    {
      "cell_type": "code",
      "execution_count": 9,
      "id": "fqDeGJhHiXF3",
      "metadata": {
        "colab": {
          "base_uri": "https://localhost:8080/"
        },
        "id": "fqDeGJhHiXF3",
        "outputId": "8d959d91-9409-44b3-9e44-8b12ac7b6874"
      },
      "outputs": [
        {
          "name": "stdout",
          "output_type": "stream",
          "text": [
            "+-----+----------------------------------------------------------------------------------------------------------------------------------------------------------------+\n",
            "|class|text                                                                                                                                                            |\n",
            "+-----+----------------------------------------------------------------------------------------------------------------------------------------------------------------+\n",
            "|ham  |Go until jurong point, crazy.. Available only in bugis n great world la e buffet... Cine there got amore wat...                                                 |\n",
            "|ham  |Ok lar... Joking wif u oni...                                                                                                                                   |\n",
            "|spam |Free entry in 2 a wkly comp to win FA Cup final tkts 21st May 2005. Text FA to 87121 to receive entry question(std txt rate)T&C's apply 08452810075over18's     |\n",
            "|ham  |U dun say so early hor... U c already then say...                                                                                                               |\n",
            "|ham  |Nah I don't think he goes to usf, he lives around here though                                                                                                   |\n",
            "|spam |FreeMsg Hey there darling it's been 3 week's now and no word back! I'd like some fun you up for it still? Tb ok! XxX std chgs to send, £1.50 to rcv             |\n",
            "|ham  |Even my brother is not like to speak with me. They treat me like aids patent.                                                                                   |\n",
            "|ham  |As per your request 'Melle Melle (Oru Minnaminunginte Nurungu Vettam)' has been set as your callertune for all Callers. Press *9 to copy your friends Callertune|\n",
            "|spam |WINNER!! As a valued network customer you have been selected to receivea £900 prize reward! To claim call 09061701461. Claim code KL341. Valid 12 hours only.   |\n",
            "|spam |Had your mobile 11 months or more? U R entitled to Update to the latest colour mobiles with camera for Free! Call The Mobile Update Co FREE on 08002986030      |\n",
            "+-----+----------------------------------------------------------------------------------------------------------------------------------------------------------------+\n",
            "only showing top 10 rows\n",
            "\n"
          ]
        }
      ],
      "source": [
        "df.show(10,truncate=False)"
      ]
    },
    {
      "cell_type": "markdown",
      "id": "2fe744a9",
      "metadata": {
        "id": "2fe744a9"
      },
      "source": [
        "## Clean and Prepare the Data"
      ]
    },
    {
      "cell_type": "markdown",
      "id": "4d693167",
      "metadata": {
        "id": "4d693167"
      },
      "source": [
        "### Create a new feature column contains the length of the text column"
      ]
    },
    {
      "cell_type": "code",
      "execution_count": 10,
      "id": "VLqVp9BYiyJP",
      "metadata": {
        "id": "VLqVp9BYiyJP"
      },
      "outputs": [],
      "source": [
        "from pyspark.sql.functions import col,length,avg"
      ]
    },
    {
      "cell_type": "code",
      "execution_count": 11,
      "id": "5424a0cb",
      "metadata": {
        "id": "5424a0cb"
      },
      "outputs": [],
      "source": [
        "df = df.withColumn(\"length\" , length(col(\"text\")))"
      ]
    },
    {
      "cell_type": "code",
      "execution_count": 12,
      "id": "Pcx88f2BjCl2",
      "metadata": {
        "colab": {
          "base_uri": "https://localhost:8080/"
        },
        "id": "Pcx88f2BjCl2",
        "outputId": "4c981a4f-7070-4794-9ad1-9b9b68152b50"
      },
      "outputs": [
        {
          "name": "stdout",
          "output_type": "stream",
          "text": [
            "root\n",
            " |-- class: string (nullable = true)\n",
            " |-- text: string (nullable = true)\n",
            " |-- length: integer (nullable = true)\n",
            "\n"
          ]
        }
      ],
      "source": [
        "df.printSchema()"
      ]
    },
    {
      "cell_type": "markdown",
      "id": "78ea2de6",
      "metadata": {
        "id": "78ea2de6"
      },
      "source": [
        "### Show the new dataframe"
      ]
    },
    {
      "cell_type": "code",
      "execution_count": 13,
      "id": "GcuvwEExjmqE",
      "metadata": {
        "colab": {
          "base_uri": "https://localhost:8080/"
        },
        "id": "GcuvwEExjmqE",
        "outputId": "78c9749f-8cd0-429b-c5f9-3086aebfb09e"
      },
      "outputs": [
        {
          "name": "stdout",
          "output_type": "stream",
          "text": [
            "+-----+--------------------+------+\n",
            "|class|                text|length|\n",
            "+-----+--------------------+------+\n",
            "|  ham|Go until jurong p...|   111|\n",
            "|  ham|Ok lar... Joking ...|    29|\n",
            "| spam|Free entry in 2 a...|   155|\n",
            "|  ham|U dun say so earl...|    49|\n",
            "|  ham|Nah I don't think...|    61|\n",
            "| spam|FreeMsg Hey there...|   147|\n",
            "|  ham|Even my brother i...|    77|\n",
            "|  ham|As per your reque...|   160|\n",
            "| spam|WINNER!! As a val...|   157|\n",
            "| spam|Had your mobile 1...|   154|\n",
            "|  ham|I'm gonna be home...|   109|\n",
            "| spam|SIX chances to wi...|   136|\n",
            "| spam|URGENT! You have ...|   155|\n",
            "|  ham|I've been searchi...|   196|\n",
            "|  ham|I HAVE A DATE ON ...|    35|\n",
            "| spam|XXXMobileMovieClu...|   149|\n",
            "|  ham|Oh k...i'm watchi...|    26|\n",
            "|  ham|Eh u remember how...|    81|\n",
            "|  ham|Fine if thats th...|    56|\n",
            "| spam|England v Macedon...|   155|\n",
            "+-----+--------------------+------+\n",
            "only showing top 20 rows\n",
            "\n"
          ]
        }
      ],
      "source": [
        "df.show()"
      ]
    },
    {
      "cell_type": "markdown",
      "id": "692e37a6",
      "metadata": {
        "id": "692e37a6"
      },
      "source": [
        "### Get the average text length for each class (give alias name to the average length column)"
      ]
    },
    {
      "cell_type": "code",
      "execution_count": 14,
      "id": "-MM3gpTVjrkU",
      "metadata": {
        "colab": {
          "base_uri": "https://localhost:8080/"
        },
        "id": "-MM3gpTVjrkU",
        "outputId": "b035b975-0e21-43df-9ff9-0778213e7452"
      },
      "outputs": [
        {
          "name": "stdout",
          "output_type": "stream",
          "text": [
            "+-----+-----------------+\n",
            "|class|      Avg. Length|\n",
            "+-----+-----------------+\n",
            "|  ham|71.45431945307645|\n",
            "| spam|138.6706827309237|\n",
            "+-----+-----------------+\n",
            "\n"
          ]
        }
      ],
      "source": [
        "df.groupBy('class').agg(avg('length').alias(' Avg. Length')).show()"
      ]
    },
    {
      "cell_type": "markdown",
      "id": "d5e101af",
      "metadata": {
        "id": "d5e101af"
      },
      "source": [
        "## Feature Transformations"
      ]
    },
    {
      "cell_type": "markdown",
      "id": "225067d5",
      "metadata": {
        "id": "225067d5"
      },
      "source": [
        "### Perform the following steps to obtain TF-IDF:\n",
        "1. Import the required transformers/estimators for the subsequent steps.\n",
        "2. Create a <b>Tokenizer</b> from the text column.\n",
        "3. Create a <b>StopWordsRemover</b> to remove the <b>stop words</b> from the column obtained from the <b>Tokenizer</b>.\n",
        "4. Create a <b>CountVectorizer</b> after removing the <b>stop words</b>.\n",
        "5. Create the <b>TF-IDF</b> from the <b>CountVectorizer</b>."
      ]
    },
    {
      "cell_type": "code",
      "execution_count": 15,
      "id": "n3OBYbFTlSgg",
      "metadata": {
        "id": "n3OBYbFTlSgg"
      },
      "outputs": [],
      "source": [
        "from pyspark.ml.feature import *"
      ]
    },
    {
      "cell_type": "code",
      "execution_count": 16,
      "id": "6a4eebf8",
      "metadata": {
        "id": "6a4eebf8"
      },
      "outputs": [],
      "source": [
        "tokenizer = Tokenizer(inputCol='text',outputCol=\"text_Tok\")"
      ]
    },
    {
      "cell_type": "code",
      "execution_count": 17,
      "id": "DN0TbF1-yLYL",
      "metadata": {
        "id": "DN0TbF1-yLYL"
      },
      "outputs": [],
      "source": [
        "remover = StopWordsRemover(inputCol='text_Tok',outputCol=\"text_RemovedStopWords\" )"
      ]
    },
    {
      "cell_type": "code",
      "execution_count": 18,
      "id": "bteH4q3EmXrM",
      "metadata": {
        "id": "bteH4q3EmXrM"
      },
      "outputs": [],
      "source": [
        "countvectorizer =CountVectorizer(inputCol='text_RemovedStopWords',outputCol=\"text_CountVectorizer\")"
      ]
    },
    {
      "cell_type": "code",
      "execution_count": 19,
      "id": "qX8tk3RomXvs",
      "metadata": {
        "id": "qX8tk3RomXvs"
      },
      "outputs": [],
      "source": [
        "from pyspark.ml.feature import IDF\n",
        "idf = IDF(inputCol='text_CountVectorizer',outputCol=\"text_idf\")"
      ]
    },
    {
      "cell_type": "markdown",
      "id": "1527ad65",
      "metadata": {
        "id": "1527ad65"
      },
      "source": [
        "- Convert the <b>class column</b> to index using <b>StringIndexer</b>\n",
        "- Create feature column from the <b>TF-IDF</b> and <b>lenght</b> columns."
      ]
    },
    {
      "cell_type": "code",
      "execution_count": 20,
      "id": "aaf46159",
      "metadata": {
        "id": "aaf46159"
      },
      "outputs": [],
      "source": [
        "stringIndexer = StringIndexer(inputCol='class', outputCol='class_index',handleInvalid='skip')"
      ]
    },
    {
      "cell_type": "code",
      "execution_count": 21,
      "id": "ad9d4c52",
      "metadata": {
        "id": "ad9d4c52"
      },
      "outputs": [],
      "source": [
        "vecAssembler = VectorAssembler(inputCols=['text_idf', 'length'],outputCol='features')"
      ]
    },
    {
      "cell_type": "markdown",
      "id": "9775d494",
      "metadata": {
        "id": "9775d494"
      },
      "source": [
        "## The Model\n",
        "- Create a <b>NaiveBayes</b> classifier with the default parameters."
      ]
    },
    {
      "cell_type": "code",
      "execution_count": 22,
      "id": "57af0d5d",
      "metadata": {
        "id": "57af0d5d"
      },
      "outputs": [],
      "source": [
        "from pyspark.ml.classification import NaiveBayes"
      ]
    },
    {
      "cell_type": "code",
      "execution_count": 23,
      "id": "54c7384e",
      "metadata": {
        "id": "54c7384e"
      },
      "outputs": [],
      "source": [
        "import numpy as np\n",
        "NB=NaiveBayes(featuresCol='features',\n",
        "                      labelCol='class_index',\n",
        "                      predictionCol='prediction')"
      ]
    },
    {
      "cell_type": "markdown",
      "id": "dc14de63",
      "metadata": {
        "id": "dc14de63"
      },
      "source": [
        "## Pipeline\n",
        "### Create a pipeline model contains all the steps starting from the Tokenizer to the NaiveBays classifier."
      ]
    },
    {
      "cell_type": "code",
      "execution_count": 24,
      "id": "8ee0d1ca",
      "metadata": {
        "id": "8ee0d1ca"
      },
      "outputs": [],
      "source": [
        "from pyspark.ml import Pipeline\n",
        "pipeline = Pipeline(stages=[tokenizer, remover, countvectorizer ,idf ,stringIndexer ,  vecAssembler , NB])"
      ]
    },
    {
      "cell_type": "markdown",
      "id": "f5d7efbe",
      "metadata": {
        "id": "f5d7efbe"
      },
      "source": [
        "### Split your data to trian and test data with ratios 0.7 and 0.3 respectively."
      ]
    },
    {
      "cell_type": "code",
      "execution_count": 25,
      "id": "2843d997",
      "metadata": {
        "colab": {
          "base_uri": "https://localhost:8080/"
        },
        "id": "2843d997",
        "outputId": "708f67d6-9d69-46cf-d2d5-ef34215d38d7"
      },
      "outputs": [
        {
          "name": "stdout",
          "output_type": "stream",
          "text": [
            "There are 3981 rows in the training set, and 1593 in the test set\n"
          ]
        }
      ],
      "source": [
        "trainDF, testDF = df.randomSplit([.7,.3],seed=42)\n",
        "print(f\"There are {trainDF.count()} rows in the training set, and {testDF.count()} in the test set\")"
      ]
    },
    {
      "cell_type": "code",
      "execution_count": 26,
      "id": "csX_cUurstxC",
      "metadata": {
        "colab": {
          "base_uri": "https://localhost:8080/"
        },
        "id": "csX_cUurstxC",
        "outputId": "2834ae69-b75b-4d7a-c0e4-8e1f2795b92e"
      },
      "outputs": [
        {
          "name": "stdout",
          "output_type": "stream",
          "text": [
            "+-----+--------------------+------+\n",
            "|class|                text|length|\n",
            "+-----+--------------------+------+\n",
            "|  ham| &lt;#&gt;  in mc...|    36|\n",
            "|  ham| &lt;#&gt;  mins ...|    51|\n",
            "|  ham| and  picking the...|    41|\n",
            "|  ham| came to look at ...|   103|\n",
            "|  ham| gonna let me kno...|    95|\n",
            "|  ham| says that he's q...|   200|\n",
            "|  ham|\"Happy valentines...|   147|\n",
            "|  ham|\"Its Ur luck to L...|   155|\n",
            "|  ham|\"Life is nothing ...|   159|\n",
            "|  ham|\"The world suffer...|   129|\n",
            "|  ham|\"Wen u miss someo...|   143|\n",
            "|  ham|&lt;#&gt;  am I t...|    45|\n",
            "|  ham|&lt;#&gt;  is fas...|   461|\n",
            "|  ham|&lt;#&gt; %of ppl...|   327|\n",
            "|  ham|'An Amazing Quote...|   141|\n",
            "|  ham|'Wnevr i wana fal...|   155|\n",
            "|  ham|(And my man carlo...|    66|\n",
            "|  ham|(You didn't hear ...|    28|\n",
            "|  ham|      * Am on my way|    14|\n",
            "|  ham|* Was really good...|    69|\n",
            "+-----+--------------------+------+\n",
            "only showing top 20 rows\n",
            "\n"
          ]
        }
      ],
      "source": [
        "trainDF.show()"
      ]
    },
    {
      "cell_type": "code",
      "execution_count": 27,
      "id": "r1df9YeZzFpg",
      "metadata": {
        "colab": {
          "base_uri": "https://localhost:8080/"
        },
        "id": "r1df9YeZzFpg",
        "outputId": "ae4cce87-85c6-4110-b93f-8875856ce45e"
      },
      "outputs": [
        {
          "name": "stdout",
          "output_type": "stream",
          "text": [
            "+-----+--------------------+------+\n",
            "|class|                text|length|\n",
            "+-----+--------------------+------+\n",
            "|  ham| &lt;DECIMAL&gt; ...|   132|\n",
            "|  ham| said kiss, kiss,...|   133|\n",
            "|  ham| what number do u...|    36|\n",
            "|  ham|\"Gimme a few\" was...|    41|\n",
            "|  ham|\"Response\" is one...|   154|\n",
            "|  ham|\"SYMPTOMS\" when U...|   139|\n",
            "|  ham|\"Speak only when ...|    80|\n",
            "|  ham|&lt;#&gt;  great ...|    85|\n",
            "|  ham|&lt;#&gt;  w jett...|    37|\n",
            "|  ham|&lt;#&gt; , that'...|    48|\n",
            "|  ham|&lt;#&gt; ISH MIN...|    45|\n",
            "|  ham|(I should add tha...|   132|\n",
            "|  ham|(No promises on w...|    60|\n",
            "|  ham|(That said can yo...|    43|\n",
            "|  ham|* Am on a train b...|    56|\n",
            "|  ham|* Thought I didn'...|    27|\n",
            "|  ham|* Was a nice day ...|   140|\n",
            "|  ham|* Will have two m...|    67|\n",
            "|  ham|, ,  and  picking...|   169|\n",
            "|  ham|, how's things? J...|    38|\n",
            "+-----+--------------------+------+\n",
            "only showing top 20 rows\n",
            "\n"
          ]
        }
      ],
      "source": [
        "testDF.show()"
      ]
    },
    {
      "cell_type": "markdown",
      "id": "8bcea576",
      "metadata": {
        "id": "8bcea576"
      },
      "source": [
        "### Fit your Pipeline model to the training data"
      ]
    },
    {
      "cell_type": "code",
      "execution_count": 28,
      "id": "3c5d4681",
      "metadata": {
        "id": "3c5d4681"
      },
      "outputs": [],
      "source": [
        "pipeline_model = pipeline.fit(trainDF)"
      ]
    },
    {
      "cell_type": "markdown",
      "id": "228a3eb1",
      "metadata": {
        "id": "228a3eb1"
      },
      "source": [
        "### Perform predictions on tests dataframe"
      ]
    },
    {
      "cell_type": "code",
      "execution_count": 29,
      "id": "14f4aab5",
      "metadata": {
        "id": "14f4aab5"
      },
      "outputs": [],
      "source": [
        "pred = pipeline_model.transform(testDF)"
      ]
    },
    {
      "cell_type": "markdown",
      "id": "bce2885f",
      "metadata": {
        "id": "bce2885f"
      },
      "source": [
        "### Print the schema of the prediction dataframe"
      ]
    },
    {
      "cell_type": "code",
      "execution_count": 30,
      "id": "yLjfE_XHwTcY",
      "metadata": {
        "colab": {
          "base_uri": "https://localhost:8080/"
        },
        "id": "yLjfE_XHwTcY",
        "outputId": "30b28d74-a6eb-400e-de44-2bdadf3f120d"
      },
      "outputs": [
        {
          "name": "stdout",
          "output_type": "stream",
          "text": [
            "root\n",
            " |-- class: string (nullable = true)\n",
            " |-- text: string (nullable = true)\n",
            " |-- length: integer (nullable = true)\n",
            " |-- text_Tok: array (nullable = true)\n",
            " |    |-- element: string (containsNull = true)\n",
            " |-- text_RemovedStopWords: array (nullable = true)\n",
            " |    |-- element: string (containsNull = true)\n",
            " |-- text_CountVectorizer: vector (nullable = true)\n",
            " |-- text_idf: vector (nullable = true)\n",
            " |-- class_index: double (nullable = false)\n",
            " |-- features: vector (nullable = true)\n",
            " |-- rawPrediction: vector (nullable = true)\n",
            " |-- probability: vector (nullable = true)\n",
            " |-- prediction: double (nullable = false)\n",
            "\n"
          ]
        }
      ],
      "source": [
        "pred.printSchema()"
      ]
    },
    {
      "cell_type": "markdown",
      "id": "57f27055",
      "metadata": {
        "id": "57f27055"
      },
      "source": [
        "## Model Evaluation\n",
        "- Use <b>MulticlassClassificationEvaluator</b> to calculate the <b>f1_score</b>."
      ]
    },
    {
      "cell_type": "code",
      "execution_count": 31,
      "id": "61911086",
      "metadata": {
        "id": "61911086"
      },
      "outputs": [],
      "source": [
        "from pyspark.ml.evaluation import MulticlassClassificationEvaluator"
      ]
    },
    {
      "cell_type": "code",
      "execution_count": 32,
      "id": "be706565",
      "metadata": {
        "id": "be706565"
      },
      "outputs": [],
      "source": [
        "Multiclass_Evaluator= MulticlassClassificationEvaluator(predictionCol='prediction',\n",
        "                                         labelCol='class_index',metricName='f1')"
      ]
    },
    {
      "cell_type": "code",
      "execution_count": 33,
      "id": "8l5GtD1qxVa3",
      "metadata": {
        "colab": {
          "base_uri": "https://localhost:8080/"
        },
        "id": "8l5GtD1qxVa3",
        "outputId": "684c081a-5dd3-45e9-faa8-82987178bab3"
      },
      "outputs": [
        {
          "name": "stdout",
          "output_type": "stream",
          "text": [
            "f1_score is:  0.9727502290227267\n"
          ]
        }
      ],
      "source": [
        "print(\"f1_score is: \" , Multiclass_Evaluator.evaluate(pred))"
      ]
    }
  ],
  "metadata": {
    "accelerator": "GPU",
    "colab": {
      "collapsed_sections": [],
      "name": "MariamEhabMostafaAhmed_Spark and Python for Big Data Final Exam-Corrective.ipynb",
      "provenance": []
    },
    "gpuClass": "standard",
    "kernelspec": {
      "display_name": "Python 3",
      "language": "python",
      "name": "python3"
    },
    "language_info": {
      "codemirror_mode": {
        "name": "ipython",
        "version": 3
      },
      "file_extension": ".py",
      "mimetype": "text/x-python",
      "name": "python",
      "nbconvert_exporter": "python",
      "pygments_lexer": "ipython3",
      "version": "3.8.8"
    }
  },
  "nbformat": 4,
  "nbformat_minor": 5
}
